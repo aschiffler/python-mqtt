{
 "cells": [
  {
   "cell_type": "markdown",
   "id": "56cd36e5-5dde-4cf9-ac13-44c0811f6fdd",
   "metadata": {},
   "source": [
    "# How to use the paho mqtt client in python\n",
    "Example on how to use the paho mqtt python client togehter with the trial version of the Pro Edition of the Eclipse Mosquitto mqtt broker by cedalo\n",
    "\n",
    "![](https://www.eclipse.org/paho/images/paho_logo_400.png)\n",
    "\n",
    "![](https://cedalo.com/wp-content/uploads/2022/05/mosquitto-logo.png)\n",
    "\n",
    "👉 [Get the pro edition trial for eclipse mosquitto mqtt broker](https://cedalo.com/mqtt-broker-pro-mosquitto/)\n",
    "\n",
    "👉 [Setup the client credentials](https://cedalo.com/blog/getting-started-pro-mosquitto-trial/)\n",
    "\n",
    "## Import needed packages"
   ]
  },
  {
   "cell_type": "code",
   "execution_count": null,
   "id": "a8527c47-f2fb-429f-bdbf-efa8e7136589",
   "metadata": {},
   "outputs": [],
   "source": [
    "import paho.mqtt.client as mqtt\n",
    "import ssl\n",
    "\n",
    "version = '5' # or '3'\n",
    "mytransport = 'websockets' # or 'tcp'"
   ]
  },
  {
   "cell_type": "markdown",
   "id": "17bfecda-b125-4503-9dbd-6b3c53ffc163",
   "metadata": {},
   "source": [
    "## Choose which protocol version and create a client object"
   ]
  },
  {
   "cell_type": "code",
   "execution_count": null,
   "id": "cd605f75-2696-41af-b043-72b9e2fd1755",
   "metadata": {},
   "outputs": [],
   "source": [
    "if version == '5':\n",
    "    client = mqtt.Client(client_id=\"myPy\",\n",
    "                         transport=mytransport,\n",
    "                         protocol=mqtt.MQTTv5)\n",
    "if version == '3':\n",
    "    client = mqtt.Client(client_id=\"myPy\",\n",
    "                         transport=mytransport,\n",
    "                         protocol=mqtt.MQTTv311,\n",
    "                         clean_session=True)"
   ]
  },
  {
   "cell_type": "markdown",
   "id": "eea1c2a9-b5ee-4466-b567-0c3acb79f74b",
   "metadata": {
    "tags": []
   },
   "source": [
    "## Client Authentification and TLS setup"
   ]
  },
  {
   "cell_type": "code",
   "execution_count": null,
   "id": "1c348b1a-75cb-43f6-a2c3-31602b7a2777",
   "metadata": {
    "tags": []
   },
   "outputs": [],
   "source": [
    "client.username_pw_set(\"user\", \"password\")\n",
    "client.tls_set(certfile=None,\n",
    "               keyfile=None,\n",
    "               # If these arguments above are not None then they will\n",
    "               # be used as client information for TLS based\n",
    "               # authentication and authorization (depends on broker setup).\n",
    "               cert_reqs=ssl.CERT_REQUIRED)\n",
    "               # this makes it mandatory that the broker\n",
    "               # has a valid certificate"
   ]
  },
  {
   "cell_type": "markdown",
   "id": "77a73b79-f25f-4942-8ad9-43e4c11bb585",
   "metadata": {},
   "source": [
    "## Define the callbacks"
   ]
  },
  {
   "cell_type": "code",
   "execution_count": null,
   "id": "5df6ef29-706f-42a4-9f84-1f6641ab4213",
   "metadata": {},
   "outputs": [],
   "source": [
    "import mycallbacks\n",
    "client.on_connect = mycallbacks.on_connect;\n",
    "client.on_message = mycallbacks.on_message;\n",
    "client.on_publish = mycallbacks.on_publish;\n",
    "client.on_subscribe = mycallbacks.on_subscribe;"
   ]
  },
  {
   "cell_type": "markdown",
   "id": "61364485-37d1-48d1-a7d1-c6abe1b20802",
   "metadata": {},
   "source": [
    "## Connect to the broker"
   ]
  },
  {
   "cell_type": "code",
   "execution_count": null,
   "id": "56006939-cf0a-47ce-8092-a21ffc5bd9af",
   "metadata": {},
   "outputs": [],
   "source": [
    "broker = 'YOUR-BROKER-ADDRESS' # eg. choosen-name-xxxx.cedalo.cloud\n",
    "\n",
    "myport = 443\n",
    "if version == '5':\n",
    "    from paho.mqtt.properties import Properties\n",
    "    from paho.mqtt.packettypes import PacketTypes \n",
    "    properties=Properties(PacketTypes.CONNECT)\n",
    "    properties.SessionExpiryInterval=30*60 # in seconds\n",
    "    client.connect(broker,\n",
    "                   port=myport,\n",
    "                   clean_start=mqtt.MQTT_CLEAN_START_FIRST_ONLY,\n",
    "                   properties=properties,\n",
    "                   keepalive=60);\n",
    "\n",
    "if version == '3':\n",
    "    client.connect(broker,port=myport,keepalive=60);\n",
    "\n",
    "client.loop_start();"
   ]
  },
  {
   "cell_type": "markdown",
   "id": "539b6964-2a85-4899-82f2-f42ae5ce8322",
   "metadata": {},
   "source": [
    "## Subscribe to a topic"
   ]
  },
  {
   "cell_type": "code",
   "execution_count": null,
   "id": "783af68a-29a3-4ae1-bd7c-c09544adf773",
   "metadata": {},
   "outputs": [],
   "source": [
    "mytopic = 'topic/important'\n",
    "client.subscribe(mytopic,2);"
   ]
  },
  {
   "cell_type": "markdown",
   "id": "dfca8fae-c186-4cad-9e87-acd3ddfb2ac6",
   "metadata": {},
   "source": [
    "## Publish to the topic"
   ]
  },
  {
   "cell_type": "code",
   "execution_count": null,
   "id": "0d00a0f9-028f-4a82-a9d4-b93edaa33fac",
   "metadata": {},
   "outputs": [],
   "source": [
    "from paho.mqtt.properties import Properties\n",
    "from paho.mqtt.packettypes import PacketTypes \n",
    "properties=Properties(PacketTypes.PUBLISH)\n",
    "properties.MessageExpiryInterval=30 # in seconds\n",
    "    \n",
    "client.publish(mytopic,'Cedalo Mosquitto is awesome',2,properties=properties);"
   ]
  },
  {
   "cell_type": "markdown",
   "id": "86bccb74-a2d1-4d32-b2eb-87820fea1603",
   "metadata": {},
   "source": [
    "## Finally unscubscribe and close the connection"
   ]
  },
  {
   "cell_type": "code",
   "execution_count": null,
   "id": "7d3e68ff-9418-45d2-a0f5-d555634b7627",
   "metadata": {},
   "outputs": [],
   "source": [
    "client.unsubscribe(mytopic);\n",
    "client.disconnect();"
   ]
  }
 ],
 "metadata": {
  "kernelspec": {
   "display_name": "Python 3 (ipykernel)",
   "language": "python",
   "name": "python3"
  },
  "language_info": {
   "codemirror_mode": {
    "name": "ipython",
    "version": 3
   },
   "file_extension": ".py",
   "mimetype": "text/x-python",
   "name": "python",
   "nbconvert_exporter": "python",
   "pygments_lexer": "ipython3",
   "version": "3.10.9"
  }
 },
 "nbformat": 4,
 "nbformat_minor": 5
}
