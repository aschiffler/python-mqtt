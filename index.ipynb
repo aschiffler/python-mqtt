{
 "cells": [
  {
   "cell_type": "code",
   "execution_count": null,
   "id": "a8527c47-f2fb-429f-bdbf-efa8e7136589",
   "metadata": {},
   "outputs": [],
   "source": [
    "import paho.mqtt.client as mqtt\n",
    "import ssl\n",
    "\n",
    "# settings\n",
    "version = '5' # or '3'\n",
    "mytransport = 'websockets' # or 'tcp'\n",
    "myport = 443 # or 8883\n",
    "mytopic = 'topic'\n",
    "broker = 'YOUR-BROKER'\n",
    "user = 'user'\n",
    "password = 'password'"
   ]
  },
  {
   "cell_type": "code",
   "execution_count": null,
   "id": "cd605f75-2696-41af-b043-72b9e2fd1755",
   "metadata": {},
   "outputs": [],
   "source": [
    "if version == '5':\n",
    "    client = mqtt.Client(client_id=\"myPy\",transport=mytransport,protocol=mqtt.MQTTv5)\n",
    "if version == '3':\n",
    "    client = mqtt.Client(client_id=\"myPy\",transport=mytransport,protocol=mqtt.MQTTv311,clean_session=True)\n",
    "\n",
    "# client authentification\n",
    "client.username_pw_set(user, password)\n",
    "client.tls_set(certfile=None, # If these arguments are not None then they will be used as client information \n",
    "               keyfile=None,  # for TLS based authentication and authorization (depends on broker setup).\n",
    "               cert_reqs=ssl.CERT_REQUIRED, # this makes it mandatory that the broker has a valid certificate\n",
    "              )\n",
    "# optional set userdata for the client \n",
    "client.user_data_set(4711)"
   ]
  },
  {
   "cell_type": "code",
   "execution_count": null,
   "id": "5df6ef29-706f-42a4-9f84-1f6641ab4213",
   "metadata": {},
   "outputs": [],
   "source": [
    "import mycallbacks\n",
    "client.on_connect = mycallbacks.on_connect;\n",
    "client.on_message = mycallbacks.on_message;\n",
    "client.on_publish = mycallbacks.on_publish;\n",
    "client.on_subscribe = mycallbacks.on_subscribe;"
   ]
  },
  {
   "cell_type": "code",
   "execution_count": null,
   "id": "56006939-cf0a-47ce-8092-a21ffc5bd9af",
   "metadata": {},
   "outputs": [],
   "source": [
    "if version == '5':\n",
    "    client.connect(broker,port=myport,clean_start=mqtt.MQTT_CLEAN_START_FIRST_ONLY);\n",
    "\n",
    "if version == '3':\n",
    "    client.connect(broker,port=myport);\n",
    "\n",
    "client.loop_start();"
   ]
  },
  {
   "cell_type": "code",
   "execution_count": null,
   "id": "783af68a-29a3-4ae1-bd7c-c09544adf773",
   "metadata": {},
   "outputs": [],
   "source": [
    "client.subscribe(mytopic,2);"
   ]
  },
  {
   "cell_type": "code",
   "execution_count": null,
   "id": "0d00a0f9-028f-4a82-a9d4-b93edaa33fac",
   "metadata": {},
   "outputs": [],
   "source": [
    "client.publish(mytopic,'Cedalo Mosquitto is awesome',2);"
   ]
  },
  {
   "cell_type": "code",
   "execution_count": null,
   "id": "7d3e68ff-9418-45d2-a0f5-d555634b7627",
   "metadata": {},
   "outputs": [],
   "source": [
    "client.unsubscribe(mytopic);\n",
    "client.disconnect();"
   ]
  }
 ],
 "metadata": {
  "kernelspec": {
   "display_name": "Python 3 (ipykernel)",
   "language": "python",
   "name": "python3"
  },
  "language_info": {
   "codemirror_mode": {
    "name": "ipython",
    "version": 3
   },
   "file_extension": ".py",
   "mimetype": "text/x-python",
   "name": "python",
   "nbconvert_exporter": "python",
   "pygments_lexer": "ipython3",
   "version": "3.9.10"
  }
 },
 "nbformat": 4,
 "nbformat_minor": 5
}
